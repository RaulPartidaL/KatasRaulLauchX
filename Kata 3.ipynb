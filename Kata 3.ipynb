{
 "cells": [
  {
   "cell_type": "markdown",
   "metadata": {},
   "source": [
    "## Ejercicio - Escribir declaraciones if, else, y elif"
   ]
  },
  {
   "cell_type": "code",
   "execution_count": 21,
   "metadata": {},
   "outputs": [
    {
     "name": "stdout",
     "output_type": "stream",
     "text": [
      "Sistema de seguridad de Asteroides activado\n",
      "Identidad y rango confirmado\n",
      "ADVERTENCIA - ASTEROIDE A DEMASIADA VELOCIDAD - ASTEROIDE A 49 Km/s\n"
     ]
    }
   ],
   "source": [
    "print(\"Sistema de seguridad de Asteroides activado\")\n",
    "print (\"Identidad y rango confirmado\")\n",
    "velocidad= input(\"Escriba la velocidad actual del meteorito para realizar mi análisis (Números enteros)\")\n",
    "if int(velocidad) >= 25:\n",
    "    print (\"ADVERTENCIA - ASTEROIDE A DEMASIADA VELOCIDAD - ASTEROIDE A\",int(velocidad),\"Km/s\")\n",
    "else:\n",
    "    print (\"Nos dirigimos a \", int(velocidad), \" Km/s. Todo esta en orden\")"
   ]
  },
  {
   "cell_type": "code",
   "execution_count": 59,
   "metadata": {},
   "outputs": [
    {
     "name": "stdout",
     "output_type": "stream",
     "text": [
      "Sistema de seguridad de Asteroides activado\n",
      "Identidad y rango confirmado\n",
      "Asteroide a una velocidad  45  km/s.\n",
      "ADVERTENCIA - ASTEROIDE A DEMASIADA VELOCIDAD - ASTEROIDE A 45 Km/s\n"
     ]
    }
   ],
   "source": [
    "print(\"Sistema de seguridad de Asteroides activado\")\n",
    "print (\"Identidad y rango confirmado\")\n",
    "velocidad= input(\"Escriba la velocidad actual del meteorito para realizar mi análisis (Números enteros)\")\n",
    "if int(velocidad) >= 19:\n",
    "    print (\"Asteroide a una velocidad \", int(velocidad), \" km/s.\")\n",
    "    if int(velocidad) >= 25:\n",
    "        print (\"ADVERTENCIA - ASTEROIDE A DEMASIADA VELOCIDAD\")\n",
    "    else:\n",
    "        print (\"Bajas probabilidades de impacto\")\n",
    "else:\n",
    "    print(\"Todo esta en orden. Tenga un buen día\")"
   ]
  },
  {
   "cell_type": "code",
   "execution_count": null,
   "metadata": {},
   "outputs": [],
   "source": [
    "asteroide = 49\n",
    "if asteroide > 25:\n",
    "    print('¡Alerta! ¡Un asteroide se acerca a velocidades peligrosas!')\n",
    "else:\n",
    "    print('¡Sigue con tu día!')"
   ]
  },
  {
   "cell_type": "code",
   "execution_count": null,
   "metadata": {},
   "outputs": [],
   "source": [
    "asteroide = 19\n",
    "if asteroide > 20:\n",
    "    print('Look up! ¡Hay una luz mágica en el cielo!')\n",
    "elif asteroide == 20:\n",
    "    print('Look up! ¡Hay una luz mágica en el cielo!')\n",
    "else:\n",
    "    print('¡Nada que ver aquí!')"
   ]
  },
  {
   "cell_type": "markdown",
   "metadata": {},
   "source": [
    "## Ejercicio: Uso de operadores and y or"
   ]
  },
  {
   "cell_type": "code",
   "execution_count": 7,
   "metadata": {},
   "outputs": [
    {
     "name": "stdout",
     "output_type": "stream",
     "text": [
      "---Sistema de seguridad de Asteroides activado---\n",
      "Identidad y rango confirmado\n",
      "La velocidad se analiza en km/s y el tamaño en metros\n",
      "--------------------------------\n",
      "Nos dirigimos a  10  Km/s. Todo esta en orden\n",
      "--------------------------------\n",
      "SITUACION CRITICA - DESTRUCCIÓN PLANETARIA EN CURSO\n",
      "--------------------------------\n",
      "Asteroide de 1001 metros\n",
      "Velocidad de 10 km/s\n",
      "---Terminando programa---\n"
     ]
    }
   ],
   "source": [
    "print(\"---Sistema de seguridad de Asteroides activado---\")\n",
    "print(\"Identidad y rango confirmado\")\n",
    "print(\"La velocidad se analiza en km/s y el tamaño en metros\")\n",
    "\n",
    "print(\"--------------------------------\")\n",
    "\n",
    "velocidad= input(\"Escriba la velocidad actual del meteorito para realizar mi análisis (Números enteros)\")\n",
    "if int(velocidad) >= 19 and int(velocidad)<=25:\n",
    "    print (\"Asteroide a una velocidad \", int(velocidad), \" km/s.\")\n",
    "    Rayo=input(\"¿Puede observar un rayo de luz sobre la tierra?\")\n",
    "    print (\"Gracias por su servicio. Observo el rayo de luz:\", (Rayo))\n",
    "elif int(velocidad)>=25:\n",
    "    print (\"ADVERTENCIA - ASTEROIDE A DEMASIADA VELOCIDAD - ASTEROIDE A\",int(velocidad),\"Km/s\")\n",
    "else:\n",
    "    print (\"Nos dirigimos a \", int(velocidad), \" Km/s. Todo esta en orden\")\n",
    "\n",
    "print(\"--------------------------------\")\n",
    "\n",
    "Tamaño= input(\"Escriba el tamaño actual del meteorito para realizar mi análisis (Números enteros)\")\n",
    "if int(Tamaño)>=25 and int(Tamaño)<=1000:\n",
    "    print(\"ALERTA DE PELIGRO - DAÑO CONSIDERABLE - TAMAÑO DE\",(Tamaño),\" METROS\")\n",
    "elif int(Tamaño)<25:\n",
    "    print(\"No existe amenaza, se destruira al entrar en la atmosfera terrestre\")\n",
    "else:\n",
    "    print(\"SITUACIÓN CRITICA - DESTRUCCIÓN PLANETARIA EN CURSO\")\n",
    "    \n",
    "print(\"--------------------------------\")\n",
    "\n",
    "print(\"Asteroide de\",(Tamaño),\"metros\")\n",
    "print(\"Velocidad de\",(velocidad),\"km/s\")\n",
    "\n",
    "print(\"---Terminando programa---\")"
   ]
  },
  {
   "cell_type": "code",
   "execution_count": null,
   "metadata": {},
   "outputs": [],
   "source": [
    "velocidad_asteroide = 25\n",
    "tamano_asteroide = 40\n",
    "if velocidad_asteroide > 25 and tamano_asteroide > 25:\n",
    "    print('¡Alerta, Un asteroide muy peligroso viene hacia la Tierra!')\n",
    "elif velocidad_asteroide >= 20:\n",
    "    print('Look up! ¡Hay una luz mágica en el cielo!')\n",
    "elif tamano_asteroide < 25:\n",
    "    print('Nada que ver aquí :)')\n",
    "else:\n",
    "    print('Nada que ver aquí :)')"
   ]
  }
 ],
 "metadata": {
  "interpreter": {
   "hash": "ea32fee396ef2a1ad1c095347d1498b11f8745d7157a24eeec10e48bc78a228a"
  },
  "kernelspec": {
   "display_name": "Python 3.10.2 64-bit (windows store)",
   "language": "python",
   "name": "python3"
  },
  "language_info": {
   "codemirror_mode": {
    "name": "ipython",
    "version": 3
   },
   "file_extension": ".py",
   "mimetype": "text/x-python",
   "name": "python",
   "nbconvert_exporter": "python",
   "pygments_lexer": "ipython3",
   "version": "3.10.2"
  },
  "orig_nbformat": 4
 },
 "nbformat": 4,
 "nbformat_minor": 2
}
