{
 "cells": [
  {
   "cell_type": "markdown",
   "metadata": {},
   "source": [
    "## Ejercicio1 - Utilizar operadores aritméticos\n"
   ]
  },
  {
   "cell_type": "code",
   "execution_count": 11,
   "metadata": {},
   "outputs": [
    {
     "name": "stdout",
     "output_type": "stream",
     "text": [
      "Distancia entre la Tierra y Júpiter planetas\n",
      "                              \n",
      "La distancia es de 628949330 Kilómetros\n",
      "---------------------------------\n",
      "La distancia es de 390577533.93 Millas\n"
     ]
    }
   ],
   "source": [
    "title = f'Distancia entre la Tierra y Júpiter planetas'\n",
    "print(title)\n",
    "\n",
    "print(\"                              \")\n",
    "\n",
    "Tierra = 149597870\n",
    "Júpiter = 778547200\n",
    "\n",
    "Resta = (abs(Tierra - Júpiter))\n",
    "print (\"La distancia es de\", Resta, \"Kilómetros\")\n",
    "\n",
    "print(\"---------------------------------\")\n",
    "\n",
    "Millas = (Resta * 0.621)\n",
    "print (\"La distancia es de\", Millas, \"Millas\")"
   ]
  },
  {
   "cell_type": "code",
   "execution_count": 12,
   "metadata": {},
   "outputs": [
    {
     "name": "stdout",
     "output_type": "stream",
     "text": [
      "628949330\n",
      "390577533.93\n"
     ]
    }
   ],
   "source": [
    "# Crear variables para almacenar las dos distancias\n",
    "# ¡Asegúrate de quitar las comas!\n",
    "\n",
    "first_planet = 149597870\n",
    "second_planet = 778547200\n",
    "\n",
    "# Calcular la distancia entre planetas\n",
    "\n",
    "distance_km = second_planet - first_planet\n",
    "print(distance_km)\n",
    "\n",
    "distance_mi = distance_km * 0.621\n",
    "print(distance_mi)"
   ]
  },
  {
   "cell_type": "markdown",
   "metadata": {},
   "source": [
    "## Ejercicio 2: convierte cadenas en números y usa valores absolutos"
   ]
  },
  {
   "cell_type": "code",
   "execution_count": 24,
   "metadata": {},
   "outputs": [
    {
     "name": "stdout",
     "output_type": "stream",
     "text": [
      "Distancia entre dos planetas desde el sol planetas\n",
      "                              \n",
      "--Introduzca los datos en Kilometros--\n",
      "                              \n",
      "La distancia es 593360 Kiolmetros\n",
      "                              \n",
      "La distancia es 368476.56 Millas\n"
     ]
    }
   ],
   "source": [
    "title = f'Distancia entre dos planetas desde el sol planetas'\n",
    "print(title)\n",
    "\n",
    "print(\"                              \")\n",
    "\n",
    "print(\"--Introduzca los datos en Kilometros--\")\n",
    "print(\"                              \")\n",
    "Planeta1 = input('Introduzca la distancia del primer planeta')\n",
    "Planeta2 = input('Introduzca la distancia del segundo planeta')\n",
    "\n",
    "Planeta1 = int(Planeta1)\n",
    "Planeta2 = int(Planeta2)\n",
    "\n",
    "Resta = (abs(Planeta1 - Planeta2))\n",
    "print(\"La distancia es\", Resta,\"Kiolmetros\")\n",
    "print(\"                              \")\n",
    "Millas = (Resta * 0.621)\n",
    "print(\"La distancia es\", Millas,\"Millas\")"
   ]
  },
  {
   "cell_type": "code",
   "execution_count": 20,
   "metadata": {},
   "outputs": [
    {
     "name": "stdout",
     "output_type": "stream",
     "text": [
      "-4345500000\n",
      "2698555500.0\n"
     ]
    }
   ],
   "source": [
    "# Almacenar las entradas del usuario\n",
    "first_planet = input('Introduzca la distancia del sol para el primer planeta en KM')\n",
    "second_planet = input('Introduzca la distancia desde el sol para el segundo planeta en KM')\n",
    "\n",
    "# Convierte las cadenas de ambos planetas a números enteros\n",
    "first_planet = int(first_planet)\n",
    "second_planet = int(second_planet)\n",
    "\n",
    "# Realizar el cálculo y determinar el valor absoluto\n",
    "distance_km = second_planet - first_planet\n",
    "print(distance_km)\n",
    "\n",
    "# Convertir de KM a Millas\n",
    "distance_mi = distance_km * 0.621\n",
    "print(abs(distance_mi))"
   ]
  }
 ],
 "metadata": {
  "interpreter": {
   "hash": "ea32fee396ef2a1ad1c095347d1498b11f8745d7157a24eeec10e48bc78a228a"
  },
  "kernelspec": {
   "display_name": "Python 3.10.2 64-bit (windows store)",
   "language": "python",
   "name": "python3"
  },
  "language_info": {
   "codemirror_mode": {
    "name": "ipython",
    "version": 3
   },
   "file_extension": ".py",
   "mimetype": "text/x-python",
   "name": "python",
   "nbconvert_exporter": "python",
   "pygments_lexer": "ipython3",
   "version": "3.10.2"
  },
  "orig_nbformat": 4
 },
 "nbformat": 4,
 "nbformat_minor": 2
}
